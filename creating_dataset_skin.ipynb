{
 "cells": [
  {
   "cell_type": "code",
   "execution_count": null,
   "metadata": {},
   "outputs": [],
   "source": [
    "import cv2\n",
    "import numpy as np\n",
    "import math\n",
    "import sys\n",
    "import os"
   ]
  },
  {
   "cell_type": "markdown",
   "metadata": {},
   "source": [
    " Here initially the required libraries are initially imported to program like **OpenCV (cv2), NumPY , Math , Sys , os**\n",
    " "
   ]
  },
  {
   "cell_type": "code",
   "execution_count": 1,
   "metadata": {},
   "outputs": [],
   "source": [
    "\n",
    "def generate_name(length = 3):\n",
    "    char_list = \"A B C D E F G H I J K L M N O P Q R S T U V W X Y Z\".split()\n",
    "    name = []\n",
    "    for i in range(length):\n",
    "        name.append(char_list[np.random.randint(len(char_list))])\n",
    "    return \"\".join(name)\n",
    "\n",
    "def getNewLabel(name,value = 'Dataset_1'):\n",
    "    current_directory = os.getcwd()\n",
    "    dataset_directory = os.path.join(current_directory,value)\n",
    "    if not os.path.exists(dataset_directory):\n",
    "        os.makedirs(dataset_directory)\n",
    "    final_directory = os.path.join(dataset_directory, name)\n",
    "    subdirectory_1 = os.path.join(final_directory, 'Original')\n",
    "    subdirectory_2 = os.path.join(final_directory, 'skin')\n",
    "    if not os.path.exists(final_directory):\n",
    "        os.makedirs(final_directory)\n",
    "        os.makedirs(subdirectory_1)\n",
    "        os.makedirs(subdirectory_2)\n",
    "    return [subdirectory_1 , subdirectory_2 ]"
   ]
  },
  {
   "cell_type": "markdown",
   "metadata": {},
   "source": [
    "\n",
    " Here , the function methods **generate_name()** and **getNewLabel()** are defined where , *generate_name()* randomly generates name of the image file to be stored and *getNewLabel()* returs the directory path of the image to be stored . Here the library *os* helps in getting the cuurent directory path using *os.getcwd()* through which we traverse and create new directory through *os.path.join()* , Thus returning the new directory path\n",
    "\n"
   ]
  },
  {
   "cell_type": "code",
   "execution_count": 2,
   "metadata": {
    "scrolled": true
   },
   "outputs": [
    {
     "name": "stdout",
     "output_type": "stream",
     "text": [
      "label :a captured! ,  count = 1\n",
      "label :s captured! ,  count = 1\n",
      "label :d captured! ,  count = 1\n",
      "label :f captured! ,  count = 1\n",
      "label :l captured! ,  count = 1\n"
     ]
    }
   ],
   "source": [
    "cap = cv2.VideoCapture(0)\n",
    "cap.set(cv2.CAP_PROP_FRAME_WIDTH, 1280)\n",
    "cap.set(cv2.CAP_PROP_FRAME_HEIGHT, 720)\n",
    "min_YCrCb = np.array([0,133,77],np.uint8)\n",
    "max_YCrCb = np.array([235,173,127],np.uint8)\n",
    "\n",
    "while(True):\n",
    "    ret, img = cap.read()\n",
    "    img = cv2.flip(img,1)\n",
    "    start , end = 200 , 450 \n",
    "\n",
    "    cv2.rectangle(img, (start+500,start-150), (end+500,end-150), (102,185,255),5)\n",
    "    crop_img = img[start-150:end-150, start+500:end+500]\n",
    "    image = crop_img\n",
    "    \n",
    "    imageYCrCb = cv2.cvtColor(image,cv2.COLOR_BGR2YCR_CB)\n",
    "    skinRegionYCrCb = cv2.inRange(imageYCrCb,min_YCrCb,max_YCrCb)\n",
    "    skinYCrCb = cv2.bitwise_and(image, image, mask = skinRegionYCrCb)\n",
    "    skin_img=skinYCrCb\n",
    "\n",
    "    all_img = np.hstack((crop_img,skin_img))\n",
    "    cv2.imshow('WebCam', img)\n",
    "    cv2.imshow('All', all_img)\n",
    "\n",
    "    k = cv2.waitKey(10)\n",
    "\n",
    "    if k == 27:   #esc key\n",
    "        break\n",
    "        \n",
    "    elif (((k>=65 and k<=90)) or ((k>=97) and (k<=122))):\n",
    "\n",
    "        p=chr(k) #Ascii to char   \n",
    "        newlabel = p\n",
    "        original_dir = getNewLabel(newlabel)\n",
    "        \n",
    "        number = len(os.listdir(original_dir[0])) + 1\n",
    "        print('label :'+p+' captured! ,  count = '+str(number))\n",
    "\n",
    "        original_img_path = os.path.join(original_dir[0] ,generate_name()+'.jpg')\n",
    "        skin_img_path = os.path.join(original_dir[1], generate_name()+'.jpg')\n",
    "    \n",
    "        cv2.imwrite(original_img_path,crop_img)\n",
    "        cv2.imwrite(skin_img_path,skin_img)\n",
    "    \n",
    "cap.release()\n",
    "cv2.destroyAllWindows()\n",
    "\n"
   ]
  },
  {
   "cell_type": "markdown",
   "metadata": {},
   "source": [
    "\n",
    "Here we initally set the *frame width and height dimensions* of the input Webcam Feed frame. the Bounding Box is then marked down by drawing a rectangle in the frame using *cv2.rectangle()* . \n",
    "\n",
    "the image only inside the bounding box is then selected and stored as **crop_img**.\n",
    "The image is then passed through filter which converts the image to YCrCb format and selects only those pixels within the specified skin color range , thus removing other noise objects from the frame. This image is saved as **skin_img**\n",
    "\n",
    "The cropped image then is displayed to the user using *cv2.imshow()* , on pressing any key in the keyboard , the respective image is then saved under the folder of the key pressed .\n",
    "\n",
    "*Example :*  if the Key A is pressed then a folder named \"A\" is created and the cropped image without skin filter is saved under the \"Original\" directory and skin filtered cropped image is saved under directory named \"skin\".\n",
    "If the directory already exists , then the folder is updated and appended with the new data of images\n"
   ]
  },
  {
   "cell_type": "code",
   "execution_count": null,
   "metadata": {},
   "outputs": [],
   "source": []
  }
 ],
 "metadata": {
  "kernelspec": {
   "display_name": "Python 3",
   "language": "python",
   "name": "python3"
  },
  "language_info": {
   "codemirror_mode": {
    "name": "ipython",
    "version": 3
   },
   "file_extension": ".py",
   "mimetype": "text/x-python",
   "name": "python",
   "nbconvert_exporter": "python",
   "pygments_lexer": "ipython3",
   "version": "3.7.4"
  }
 },
 "nbformat": 4,
 "nbformat_minor": 2
}
